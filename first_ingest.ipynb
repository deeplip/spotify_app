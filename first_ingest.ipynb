{
 "cells": [
  {
   "cell_type": "code",
   "execution_count": 1,
   "metadata": {},
   "outputs": [],
   "source": [
    "import spotify_modules\n",
    "import pandas as pd\n",
    "\n",
    "playlist = '37i9dQZF1DXcBWIGoYBM5M' # PARAM\n",
    "\n",
    "def get_playlist(playlist_id):\n",
    "    playlist_obj = spotify_modules.Playlist(playlist)\n",
    "    playlist_df = pd.DataFrame({'track_id':playlist_obj.track_id,'artist_name' : playlist_obj.artists_names,'track_name' : playlist_obj.tracks_names, 'popularity':playlist_obj.popularity, 'artist_id' : playlist_obj.artists_ids,  'album_id' : playlist_obj.album_id})\n",
    "    return playlist_df\n",
    "\n",
    "def get_audio_data(playlist_df):\n",
    "    tracks_data = playlist_df['track_id'].map(spotify_modules.Track)\n",
    "    audio_analysis_df = pd.DataFrame([track.audio_analysis for track in tracks_data])\n",
    "    audio_features_df = pd.DataFrame([track.audio_features for track in tracks_data])\n",
    "    audio_df = pd.concat([audio_features_df, audio_analysis_df], axis = 1)\n",
    "    data_df = pd.merge(playlist_df, audio_df, left_on='track_id', right_on='id')\n",
    "    return data_df"
   ]
  }
 ],
 "metadata": {
  "kernelspec": {
   "display_name": "Python 3.9.13 64-bit",
   "language": "python",
   "name": "python3"
  },
  "language_info": {
   "codemirror_mode": {
    "name": "ipython",
    "version": 3
   },
   "file_extension": ".py",
   "mimetype": "text/x-python",
   "name": "python",
   "nbconvert_exporter": "python",
   "pygments_lexer": "ipython3",
   "version": "3.9.13"
  },
  "orig_nbformat": 4,
  "vscode": {
   "interpreter": {
    "hash": "a8cd94db2cad923e4445e0e6317e489433792deace800143b51a03f376f6dc14"
   }
  }
 },
 "nbformat": 4,
 "nbformat_minor": 2
}
